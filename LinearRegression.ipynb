{
 "cells": [
  {
   "cell_type": "code",
   "execution_count": 4,
   "metadata": {},
   "outputs": [],
   "source": [
    "import numpy as np\n",
    "import scipy.stats as stats\n",
    "import pandas as pd\n",
    "import matplotlib.pyplot as plt\n",
    "from traitlets.traitlets import List\n",
    "def averageX(array : list) -> float:\n",
    "  mx = 0\n",
    "  for i in range(0,len(array)):\n",
    "    mx+=array[i]\n",
    "  return mx/len(array)\n",
    "\n",
    "def dx (array : list): \n",
    "  dx = 0\n",
    "  mx = averageX(array)\n",
    "  for i in range(0,len(array)):\n",
    "    dx+= array[i]* array[i] - mx*mx\n",
    "  return dx/len(array)\n",
    "def covXY(x: list,y:list) -> float:\n",
    "  if(len(x)!= len(y)):\n",
    "    return\n",
    "  cov = 0\n",
    "  mx = averageX(x)\n",
    "  my = averageX(y)\n",
    "  for i in range(0,len(x)):\n",
    "    cov+= (x[i]*y[i] - mx*my)\n",
    "  return cov/len(x)\n",
    "\n",
    "def getRegressionVector(k,b, x : list):\n",
    "  y = []\n",
    "  for i in range(0,len(x)):\n",
    "    y.append(b+ k*x[i])\n",
    "  return y\n",
    "def Qregression(b0,b1,y_data:list,x_data:list):\n",
    "  y = 0\n",
    "  for i in range(0,len(x_data)):\n",
    "    y+=pow(y_data[i] - (b0 + b1*x_data[i]),2)\n",
    "  return y\n",
    "def QRemains(x_data : list,b0,b1,my):\n",
    "  result = 0\n",
    "  for i in range(0,len(x_data)):\n",
    "    result+=pow((b0 +b1*x_data[i] - my),2)\n",
    "  return result\n",
    "def fisher_criterion(v1, v2):\n",
    "  return abs(np.mean(v1) - np.mean(v2)) / (np.var(v1) + np.var(v2))\n",
    "def show_grafics(f_value,statistic,x,y,y_regression):\n",
    "  if(f_value>statistic):\n",
    "    print(\"Похоже на линейную зависимость\")\n",
    "    plt.plot(x, y_regression)\n",
    "    plt.show()  \n",
    "    print(\"Исходный график:\")\n",
    "    plt.scatter(x, y)\n",
    "    plt.show() \n",
    "  else:\n",
    "    print(\"Вероятно не линейная зависимость, исходный график:\")\n",
    "    plt.scatter(x, y)\n",
    "    plt.show() \n",
    "  return\n",
    "def checkLinearRegression(x : list,y :list):\n",
    "  if(len(x)!= len(y)):\n",
    "    print(\"Не совпадают размерности векторов\")\n",
    "    return\n",
    "  sort(x,y)\n",
    "  b1 = covXY(x,y)/dx(x)\n",
    "  mx = averageX(x)\n",
    "  my = averageX(y)\n",
    "  b0 = my - b1*mx\n",
    "  y_regression = getRegressionVector(b1,b0,x)\n",
    "  statistic = Qregression(b0,b1,y,x)/(QRemains(x,b0,b1,my)/(len(x) - 2))\n",
    "  f_value = fisher_criterion(y, x)\n",
    "  show_grafics(f_value,statistic,x,y,y_regression)\n",
    "def parseFile(nameFile):\n",
    "  f = open(nameFile)\n",
    "  spliter = ' '\n",
    "  arr = list(map(float, f.read().split(spliter)[4::8]))\n",
    "  return arr\n",
    "def sort(x:list,y:list):\n",
    "  for i in range(0,len(x)-1):\n",
    "    for j in range(0,len(x)-1):\n",
    "      if(x[j]<x[j+1]):\n",
    "        tmp = x[j+1]\n",
    "        x[j+1] = x[j]\n",
    "        x[j] = tmp\n",
    "        tmp = y[j+1]\n",
    "        y[j+1] = y[j]\n",
    "        y[j] = tmp\n",
    "  return\n",
    "\n"
   ]
  },
  {
   "cell_type": "code",
   "execution_count": 64,
   "metadata": {},
   "outputs": [
    {
     "name": "stdout",
     "output_type": "stream",
     "text": [
      "Зависимость веса от роста по OX - рост по OY - вес\n",
      "Не совпадают размерности векторов\n",
      "Зависимость акции ММК от доллара по OX - доллар по OY - цена акции\n",
      "Вероятно не линейная зависимость, исходный график:\n"
     ]
    },
    {
     "data": {
      "image/png": "[encoded data removed]",
      "text/plain": [
       "<Figure size 640x480 with 1 Axes>"
      ]
     },
     "metadata": {},
     "output_type": "display_data"
    }
   ],
   "source": [
    "x : np.array([170,171,172,173,174,175,175,176,177,178,179])\n",
    "y = np.array([63.7,64,65.5,66.2,66.7,67.4,68.1,68.9,69.6,70.4,71])\n",
    "\n",
    "print(\"Зависимость веса от роста по OX - рост по OY - вес\")\n",
    "checkLinearRegression(x,y)\n",
    "print(\"Зависимость акции ММК от доллара по OX - доллар по OY - цена акции\")\n",
    "y = parseFile(\"MAGN_160301_230301.txt\")\n",
    "x = parseFile(\"USDRUB_160301_230301.txt\")\n",
    "sort(x,y)\n",
    "checkLinearRegression(x,y)\n",
    "\n",
    "\n"
   ]
  },
  {
   "attachments": {},
   "cell_type": "markdown",
   "metadata": {},
   "source": [
    "## Изучение линейной регрессии с помощью библиотек"
   ]
  },
  {
   "cell_type": "code",
   "execution_count": 6,
   "metadata": {},
   "outputs": [],
   "source": [
    "import numpy as np\n",
    "from sklearn.linear_model import LinearRegression"
   ]
  },
  {
   "cell_type": "code",
   "execution_count": 90,
   "metadata": {},
   "outputs": [
    {
     "data": {
      "text/plain": [
       "LinearRegression()"
      ]
     },
     "execution_count": 90,
     "metadata": {},
     "output_type": "execute_result"
    }
   ],
   "source": [
    "model = LinearRegression()\n",
    "x_train = np.reshape(x,(-1,1))\n",
    "model.fit(x_train,y)"
   ]
  },
  {
   "attachments": {},
   "cell_type": "markdown",
   "metadata": {},
   "source": [
    "## Оценка качества модели и попытка предсказания"
   ]
  },
  {
   "cell_type": "code",
   "execution_count": 91,
   "metadata": {},
   "outputs": [
    {
     "name": "stdout",
     "output_type": "stream",
     "text": [
      "0.14230639059370176\n"
     ]
    },
    {
     "data": {
      "text/plain": [
       "array([50.41961785])"
      ]
     },
     "execution_count": 91,
     "metadata": {},
     "output_type": "execute_result"
    },
    {
     "data": {
      "image/png": "[encoded data removed]",
      "text/plain": [
       "<Figure size 640x480 with 1 Axes>"
      ]
     },
     "metadata": {},
     "output_type": "display_data"
    }
   ],
   "source": [
    "r = model.score(x_train,y)\n",
    "print(r)\n",
    "plt.scatter(x_train,y)\n",
    "plt.plot(x_train,model.predict(x_train).reshape((-1,1)))\n",
    "model.predict([[81.12]])\n"
   ]
  },
  {
   "attachments": {},
   "cell_type": "markdown",
   "metadata": {},
   "source": [
    "Видно, что цена акции ММК слабо зависит от курса доллара, на практике данное предсказание едва работает: на момент 09.04.2023 курс доллара составляет 81.12, а цена акции 40.58, таким образом отклонение составило около 20% (возможно стоит избавиться от выбросов)"
   ]
  },
  {
   "attachments": {},
   "cell_type": "markdown",
   "metadata": {},
   "source": [
    "## Проработка выбросов"
   ]
  },
  {
   "attachments": {},
   "cell_type": "markdown",
   "metadata": {},
   "source": [
    "Выкинем все дни в которых доллар>85, так как происходили нетипичные вещи для рынка акций (СВО), также выкинем данные про ММК которые нетипичны для нее например в период ее выхода на биржу или сверхприбыльных отчетов(скачки цен)"
   ]
  },
  {
   "cell_type": "code",
   "execution_count": 111,
   "metadata": {},
   "outputs": [],
   "source": [
    "indexArr = np.argwhere((np.array(x)>85) | (np.array(y)>65) | (np.array(y)<20))\n",
    "x_train = np.delete(x,indexArr)\n",
    "y_train = np.delete(y,indexArr)\n"
   ]
  },
  {
   "cell_type": "code",
   "execution_count": 113,
   "metadata": {},
   "outputs": [
    {
     "data": {
      "text/plain": [
       "LinearRegression()"
      ]
     },
     "execution_count": 113,
     "metadata": {},
     "output_type": "execute_result"
    }
   ],
   "source": [
    "model = LinearRegression()\n",
    "x_train = np.reshape(x_train,(-1,1))\n",
    "model.fit(x_train,y_train)"
   ]
  },
  {
   "cell_type": "code",
   "execution_count": 114,
   "metadata": {},
   "outputs": [
    {
     "name": "stdout",
     "output_type": "stream",
     "text": [
      "0.14308078836518767\n"
     ]
    },
    {
     "data": {
      "text/plain": [
       "array([48.65579882])"
      ]
     },
     "execution_count": 114,
     "metadata": {},
     "output_type": "execute_result"
    },
    {
     "data": {
      "image/png": "[encoded data removed]",
      "text/plain": [
       "<Figure size 640x480 with 1 Axes>"
      ]
     },
     "metadata": {},
     "output_type": "display_data"
    }
   ],
   "source": [
    "r = model.score(x_train,y_train)\n",
    "print(r)\n",
    "plt.scatter(x_train,y_train)\n",
    "plt.plot(x_train,model.predict(x_train).reshape((-1,1)))\n",
    "model.predict([[81.12]])"
   ]
  },
  {
   "attachments": {},
   "cell_type": "markdown",
   "metadata": {},
   "source": [
    "Таким образом мы слегка повысили коэффицент детерминации, и  улучшили прогноз"
   ]
  }
 ],
 "metadata": {
  "kernelspec": {
   "display_name": "base",
   "language": "python",
   "name": "python3"
  },
  "language_info": {
   "codemirror_mode": {
    "name": "ipython",
    "version": 3
   },
   "file_extension": ".py",
   "mimetype": "text/x-python",
   "name": "python",
   "nbconvert_exporter": "python",
   "pygments_lexer": "ipython3",
   "version": "3.9.13"
  },
  "orig_nbformat": 4
 },
 "nbformat": 4,
 "nbformat_minor": 2
}
